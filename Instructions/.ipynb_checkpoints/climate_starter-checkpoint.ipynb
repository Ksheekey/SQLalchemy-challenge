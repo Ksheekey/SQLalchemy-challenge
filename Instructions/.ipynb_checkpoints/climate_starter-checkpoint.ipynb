{
 "cells": [
  {
   "cell_type": "code",
   "execution_count": null,
   "metadata": {},
   "outputs": [],
   "source": [
    "%matplotlib inline\n",
    "from matplotlib import style\n",
    "style.use('fivethirtyeight')\n",
    "import matplotlib.pyplot as plt"
   ]
  },
  {
   "cell_type": "code",
   "execution_count": null,
   "metadata": {},
   "outputs": [],
   "source": [
    "import numpy as np\n",
    "import pandas as pd\n",
    "import datetime as dt"
   ]
  },
  {
   "cell_type": "markdown",
   "metadata": {},
   "source": [
    "# Reflect Tables into SQLAlchemy ORM"
   ]
  },
  {
   "cell_type": "code",
   "execution_count": null,
   "metadata": {},
   "outputs": [],
   "source": [
    "# Python SQL toolkit and Object Relational Mapper\n",
    "import sqlalchemy\n",
    "from sqlalchemy.ext.automap import automap_base\n",
    "from sqlalchemy.orm import Session\n",
    "from sqlalchemy import create_engine, func"
   ]
  },
  {
   "cell_type": "code",
   "execution_count": null,
   "metadata": {},
   "outputs": [],
   "source": [
    "# create engine to hawaii.sqlite\n",
    "engine = create_engine(\"sqlite:///Resources/hawaii.sqlite\")"
   ]
  },
  {
   "cell_type": "code",
   "execution_count": null,
   "metadata": {},
   "outputs": [],
   "source": [
    "# reflect an existing database into a new model\n",
    "Base = automap_base()\n",
    "# reflect the tables\n",
    "Base.prepare(engine, reflect=True)"
   ]
  },
  {
   "cell_type": "code",
   "execution_count": null,
   "metadata": {},
   "outputs": [],
   "source": [
    "# View all of the classes that automap found\n",
    "Base.classes.keys()"
   ]
  },
  {
   "cell_type": "code",
   "execution_count": null,
   "metadata": {},
   "outputs": [],
   "source": [
    "# Save references to each table\n",
    "Measurement = Base.classes.measurement\n",
    "Station = Base.classes.station"
   ]
  },
  {
   "cell_type": "code",
   "execution_count": null,
   "metadata": {},
   "outputs": [],
   "source": [
    "# Create our session (link) from Python to the DB\n",
    "session = Session(engine)"
   ]
  },
  {
   "cell_type": "markdown",
   "metadata": {},
   "source": [
    "# Exploratory Precipitation Analysis"
   ]
  },
  {
   "cell_type": "code",
   "execution_count": null,
   "metadata": {},
   "outputs": [],
   "source": [
    "#creating dataframes of the tables in case its needed\n",
    "Measurement_df = session.query(Measurement.id, Measurement.station, \\\n",
    "                               Measurement.date, Measurement.prcp, Measurement.tobs).all()\n",
    "M_df = pd.DataFrame(Measurement_df)\n",
    "Station_df = session.query(Station.id, Station.station, \\\n",
    "                           Station.name, Station.latitude, Station.longitude, Station.elevation).all()\n",
    "S_df = pd.DataFrame(Station_df)"
   ]
  },
  {
   "cell_type": "code",
   "execution_count": null,
   "metadata": {},
   "outputs": [],
   "source": [
    "#merging the tables on station\n",
    "M_S_df = pd.merge(M_df, S_df, on='station')\n",
    "all_data = M_S_df[['id_x','station','name','date','prcp','tobs','latitude','longitude','elevation']]\n",
    "final_df = all_data.rename(columns={\"id_x\": \"id\"})\n",
    "final_df.set_index('id', inplace=True)\n",
    "final_df"
   ]
  },
  {
   "cell_type": "code",
   "execution_count": null,
   "metadata": {},
   "outputs": [],
   "source": [
    "# Find the most recent date in the data set.\n",
    "date_find = session.query(Measurement.date).order_by(Measurement.id.desc()).first()\n",
    "recent_date = 0\n",
    "for x in date_find:\n",
    "    recent_date = x\n",
    "    print(f\"the most recent date in the data set is {recent_date}\")"
   ]
  },
  {
   "cell_type": "code",
   "execution_count": null,
   "metadata": {},
   "outputs": [],
   "source": [
    "recent_date"
   ]
  },
  {
   "cell_type": "code",
   "execution_count": null,
   "metadata": {},
   "outputs": [],
   "source": [
    "# Design a query to retrieve the last 12 months of precipitation data and plot the results. \n",
    "# Starting from the most recent data point in the database. \n",
    "\n",
    "conn = engine.connect()\n",
    "# Calculate the date one year from the last date in data set.\n",
    "data = pd.read_sql(\"SELECT id,date,prcp FROM measurement\", conn)\n",
    "data_info = pd.to_datetime(data['date'])\n",
    "percip = pd.read_sql(\"SELECT date,prcp FROM measurement\", conn)\n",
    "\n",
    "# Perform a query to retrieve the data and precipitation scores\n",
    "\n",
    "\n",
    "# Save the query results as a Pandas DataFrame and set the index to the date column\n",
    "\n",
    "\n",
    "# Sort the dataframe by date\n",
    "\n",
    "\n",
    "# Use Pandas Plotting with Matplotlib to plot the data\n",
    "\n",
    "\n",
    "data_info\n",
    "#btwn_data = pd.DataFrame({'date':pd.date_range(start = dt.datetime(2016,8,23), end = dt.datetime(217,8,23))})\n",
    "data_info_df = pd.DataFrame(data_info)\n",
    "date_range = data_info_df[(data_info_df['date'] >= '2016-08-23') & (data_info_df['date'] <= '2017-08-23')]\n",
    "# percip_df = pd.DataFrame(percip)\n",
    "# percip_date_df = pd.merge(date_range,percip_df, on='date')\n",
    "# percip_date_df\n",
    "date_range['year'] = date_range['date'].dt.year\n",
    "date_range['month'] = date_range['date'].dt.month\n",
    "date_range['day'] = date_range['date'].dt.day\n",
    "date_range"
   ]
  },
  {
   "cell_type": "code",
   "execution_count": null,
   "metadata": {},
   "outputs": [],
   "source": [
    "data_info_df['year'] = data_info_df['date'].dt.year\n",
    "data_info_df['month'] = data_info_df['date'].dt.month\n",
    "data_info_df['day'] = data_info_df['date'].dt.day\n",
    "find_date = data_info_df.loc[data_info_df['date']==recent_date]\n",
    "last_year = data_info_df['year'].max()\n",
    "last_yr_yr = last_year - 1\n",
    "last_yr_yr\n",
    "find_date\n",
    "last_yr_mon = find_date['month'].max()\n",
    "last_yr_mon\n",
    "last_yr_day = find_date['day'].max()\n",
    "last_yr_day\n",
    "data_info_df.loc[(data_info_df['year'] >= last_yr_yr)&(data_info_df['month']==last_yr_mon)&(data_info_df['day']==last_yr_day)]\n",
    "# print(last_yr_yr)\n",
    "# print(last_yr_mon)\n",
    "# print(last_yr_day)\n",
    "# data_info_df['last_year'] = data_info_df[data_info_df.columns[1:]].apply(lambda x: '-'.join(),axis=1)\n",
    "# data_info_df\n"
   ]
  },
  {
   "cell_type": "code",
   "execution_count": null,
   "metadata": {},
   "outputs": [],
   "source": [
    "# Use Pandas to calcualte the summary statistics for the precipitation data\n"
   ]
  },
  {
   "cell_type": "markdown",
   "metadata": {},
   "source": [
    "# Exploratory Station Analysis"
   ]
  },
  {
   "cell_type": "code",
   "execution_count": null,
   "metadata": {},
   "outputs": [],
   "source": [
    "# Design a query to calculate the total number stations in the dataset\n"
   ]
  },
  {
   "cell_type": "code",
   "execution_count": null,
   "metadata": {},
   "outputs": [],
   "source": [
    "# Design a query to find the most active stations (i.e. what stations have the most rows?)\n",
    "# List the stations and the counts in descending order.\n"
   ]
  },
  {
   "cell_type": "code",
   "execution_count": null,
   "metadata": {},
   "outputs": [],
   "source": [
    "# Using the most active station id from the previous query, calculate the lowest, highest, and average temperature.\n"
   ]
  },
  {
   "cell_type": "code",
   "execution_count": null,
   "metadata": {},
   "outputs": [],
   "source": [
    "# Using the most active station id\n",
    "# Query the last 12 months of temperature observation data for this station and plot the results as a histogram\n"
   ]
  },
  {
   "cell_type": "markdown",
   "metadata": {},
   "source": [
    "# Close session"
   ]
  },
  {
   "cell_type": "code",
   "execution_count": null,
   "metadata": {},
   "outputs": [],
   "source": [
    "# Close Session\n",
    "session.close()"
   ]
  },
  {
   "cell_type": "code",
   "execution_count": null,
   "metadata": {},
   "outputs": [],
   "source": []
  }
 ],
 "metadata": {
  "anaconda-cloud": {},
  "kernel_info": {
   "name": "python3"
  },
  "kernelspec": {
   "display_name": "Python 3",
   "language": "python",
   "name": "python3"
  },
  "language_info": {
   "codemirror_mode": {
    "name": "ipython",
    "version": 3
   },
   "file_extension": ".py",
   "mimetype": "text/x-python",
   "name": "python",
   "nbconvert_exporter": "python",
   "pygments_lexer": "ipython3",
   "version": "3.8.5"
  },
  "nteract": {
   "version": "0.12.3"
  },
  "varInspector": {
   "cols": {
    "lenName": 16,
    "lenType": 16,
    "lenVar": 40
   },
   "kernels_config": {
    "python": {
     "delete_cmd_postfix": "",
     "delete_cmd_prefix": "del ",
     "library": "var_list.py",
     "varRefreshCmd": "print(var_dic_list())"
    },
    "r": {
     "delete_cmd_postfix": ") ",
     "delete_cmd_prefix": "rm(",
     "library": "var_list.r",
     "varRefreshCmd": "cat(var_dic_list()) "
    }
   },
   "types_to_exclude": [
    "module",
    "function",
    "builtin_function_or_method",
    "instance",
    "_Feature"
   ],
   "window_display": false
  }
 },
 "nbformat": 4,
 "nbformat_minor": 2
}
