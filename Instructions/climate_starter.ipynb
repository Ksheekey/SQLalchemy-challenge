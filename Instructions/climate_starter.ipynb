{
 "cells": [
  {
   "cell_type": "code",
   "execution_count": 1,
   "metadata": {},
   "outputs": [],
   "source": [
    "%matplotlib inline\n",
    "from matplotlib import style\n",
    "style.use('fivethirtyeight')\n",
    "import matplotlib.pyplot as plt"
   ]
  },
  {
   "cell_type": "code",
   "execution_count": 2,
   "metadata": {},
   "outputs": [],
   "source": [
    "import numpy as np\n",
    "import pandas as pd\n",
    "import datetime as dt"
   ]
  },
  {
   "cell_type": "markdown",
   "metadata": {},
   "source": [
    "# Reflect Tables into SQLAlchemy ORM"
   ]
  },
  {
   "cell_type": "code",
   "execution_count": 3,
   "metadata": {},
   "outputs": [],
   "source": [
    "# Python SQL toolkit and Object Relational Mapper\n",
    "import sqlalchemy\n",
    "from sqlalchemy.ext.automap import automap_base\n",
    "from sqlalchemy.orm import Session\n",
    "from sqlalchemy import create_engine, func"
   ]
  },
  {
   "cell_type": "code",
   "execution_count": 4,
   "metadata": {},
   "outputs": [],
   "source": [
    "# create engine to hawaii.sqlite\n",
    "engine = create_engine(\"sqlite:///Resources/hawaii.sqlite\")"
   ]
  },
  {
   "cell_type": "code",
   "execution_count": 5,
   "metadata": {},
   "outputs": [],
   "source": [
    "# reflect an existing database into a new model\n",
    "Base = automap_base()\n",
    "# reflect the tables\n",
    "Base.prepare(engine, reflect=True)"
   ]
  },
  {
   "cell_type": "code",
   "execution_count": 6,
   "metadata": {},
   "outputs": [
    {
     "data": {
      "text/plain": [
       "['measurement', 'station']"
      ]
     },
     "execution_count": 6,
     "metadata": {},
     "output_type": "execute_result"
    }
   ],
   "source": [
    "# View all of the classes that automap found\n",
    "Base.classes.keys()"
   ]
  },
  {
   "cell_type": "code",
   "execution_count": 7,
   "metadata": {},
   "outputs": [],
   "source": [
    "# Save references to each table\n",
    "Measurement = Base.classes.measurement\n",
    "Station = Base.classes.station"
   ]
  },
  {
   "cell_type": "code",
   "execution_count": 8,
   "metadata": {},
   "outputs": [],
   "source": [
    "# Create our session (link) from Python to the DB\n",
    "session = Session(engine)"
   ]
  },
  {
   "cell_type": "markdown",
   "metadata": {},
   "source": [
    "# Exploratory Precipitation Analysis"
   ]
  },
  {
   "cell_type": "code",
   "execution_count": 9,
   "metadata": {},
   "outputs": [
    {
     "name": "stdout",
     "output_type": "stream",
     "text": [
      "the most recent date in the data set is 2017-08-23\n"
     ]
    }
   ],
   "source": [
    "# Find the most recent date in the data set.\n",
    "date_find = session.query(Measurement.date).order_by(Measurement.id.desc()).first()\n",
    "for x in date_find:\n",
    "    recent_date = x\n",
    "    print(f\"the most recent date in the data set is {recent_date}\")"
   ]
  },
  {
   "cell_type": "code",
   "execution_count": 10,
   "metadata": {},
   "outputs": [
    {
     "data": {
      "text/plain": [
       "<AxesSubplot:xlabel='date'>"
      ]
     },
     "execution_count": 10,
     "metadata": {},
     "output_type": "execute_result"
    },
    {
     "data": {
      "image/png": "[encoded data removed]",
      "text/plain": [
       "<Figure size 432x288 with 1 Axes>"
      ]
     },
     "metadata": {},
     "output_type": "display_data"
    }
   ],
   "source": [
    "# Design a query to retrieve the last 12 months of precipitation data and plot the results. \n",
    "# Starting from the most recent data point in the database. \n",
    "conn = engine.connect()\n",
    "\n",
    "# Calculate the date one year from the last date in data set.\n",
    "# Perform a query to retrieve the data and precipitation scores\n",
    "# Save the query results as a Pandas DataFrame and set the index to the date column\n",
    "# Sort the dataframe by date\n",
    "\n",
    "##querying the id,date,percipitation data from the measurement table,\n",
    "##converting the date column to datetime, making it into dataframe\n",
    "data = pd.read_sql(\"SELECT id,date,prcp FROM measurement\", conn)\n",
    "data['date'] = pd.to_datetime(data['date'])\n",
    "data_info_df = pd.DataFrame(data)\n",
    "\n",
    "##breaking up the date and adding year month and date columns\n",
    "##calculating the date for 1 year ago and making it a variable to call\n",
    "data_info_df['year'] = data_info_df['date'].dt.year\n",
    "data_info_df['month'] = data_info_df['date'].dt.month\n",
    "data_info_df['day'] = data_info_df['date'].dt.day\n",
    "find_date = data_info_df.loc[data_info_df['date'] == recent_date]\n",
    "last_year = find_date['year'].max()\n",
    "last_yr_yr = last_year - 1\n",
    "last_yr_mon = find_date['month'].max()\n",
    "last_yr_day = find_date['day'].max()\n",
    "last_yr_date = (f\"{last_yr_yr}-{last_yr_mon}-{last_yr_day}\")\n",
    "\n",
    "##finding all the info in the date range requested, and transforming the dataframe to match whats requested\n",
    "date_range = data_info_df[(data_info_df['date'] >= last_yr_date) & (data_info_df['date'] <= recent_date)]\n",
    "date_range_ndd = date_range[['date','prcp']]\n",
    "final_date = date_range_ndd.set_index('date')\n",
    "final_date.head(50)\n",
    "\n",
    "\n",
    "# Use Pandas Plotting with Matplotlib to plot the data\n",
    "\n",
    "final_date.plot()"
   ]
  },
  {
   "cell_type": "code",
   "execution_count": 11,
   "metadata": {},
   "outputs": [
    {
     "data": {
      "text/html": [
       "<div>\n",
       "<style scoped>\n",
       "    .dataframe tbody tr th:only-of-type {\n",
       "        vertical-align: middle;\n",
       "    }\n",
       "\n",
       "    .dataframe tbody tr th {\n",
       "        vertical-align: top;\n",
       "    }\n",
       "\n",
       "    .dataframe thead th {\n",
       "        text-align: right;\n",
       "    }\n",
       "</style>\n",
       "<table border=\"1\" class=\"dataframe\">\n",
       "  <thead>\n",
       "    <tr style=\"text-align: right;\">\n",
       "      <th></th>\n",
       "      <th>prcp</th>\n",
       "    </tr>\n",
       "  </thead>\n",
       "  <tbody>\n",
       "    <tr>\n",
       "      <th>count</th>\n",
       "      <td>2021.000000</td>\n",
       "    </tr>\n",
       "    <tr>\n",
       "      <th>mean</th>\n",
       "      <td>0.177279</td>\n",
       "    </tr>\n",
       "    <tr>\n",
       "      <th>std</th>\n",
       "      <td>0.461190</td>\n",
       "    </tr>\n",
       "    <tr>\n",
       "      <th>min</th>\n",
       "      <td>0.000000</td>\n",
       "    </tr>\n",
       "    <tr>\n",
       "      <th>25%</th>\n",
       "      <td>0.000000</td>\n",
       "    </tr>\n",
       "    <tr>\n",
       "      <th>50%</th>\n",
       "      <td>0.020000</td>\n",
       "    </tr>\n",
       "    <tr>\n",
       "      <th>75%</th>\n",
       "      <td>0.130000</td>\n",
       "    </tr>\n",
       "    <tr>\n",
       "      <th>max</th>\n",
       "      <td>6.700000</td>\n",
       "    </tr>\n",
       "  </tbody>\n",
       "</table>\n",
       "</div>"
      ],
      "text/plain": [
       "              prcp\n",
       "count  2021.000000\n",
       "mean      0.177279\n",
       "std       0.461190\n",
       "min       0.000000\n",
       "25%       0.000000\n",
       "50%       0.020000\n",
       "75%       0.130000\n",
       "max       6.700000"
      ]
     },
     "execution_count": 11,
     "metadata": {},
     "output_type": "execute_result"
    }
   ],
   "source": [
    "# Use Pandas to calcualte the summary statistics for the precipitation data\n",
    "final_date.describe()"
   ]
  },
  {
   "cell_type": "markdown",
   "metadata": {},
   "source": [
    "# Exploratory Station Analysis"
   ]
  },
  {
   "cell_type": "code",
   "execution_count": 31,
   "metadata": {},
   "outputs": [
    {
     "data": {
      "text/html": [
       "<div>\n",
       "<style scoped>\n",
       "    .dataframe tbody tr th:only-of-type {\n",
       "        vertical-align: middle;\n",
       "    }\n",
       "\n",
       "    .dataframe tbody tr th {\n",
       "        vertical-align: top;\n",
       "    }\n",
       "\n",
       "    .dataframe thead th {\n",
       "        text-align: right;\n",
       "    }\n",
       "</style>\n",
       "<table border=\"1\" class=\"dataframe\">\n",
       "  <thead>\n",
       "    <tr style=\"text-align: right;\">\n",
       "      <th></th>\n",
       "      <th>COUNT(name)</th>\n",
       "    </tr>\n",
       "  </thead>\n",
       "  <tbody>\n",
       "    <tr>\n",
       "      <th>0</th>\n",
       "      <td>9</td>\n",
       "    </tr>\n",
       "  </tbody>\n",
       "</table>\n",
       "</div>"
      ],
      "text/plain": [
       "   COUNT(name)\n",
       "0            9"
      ]
     },
     "execution_count": 31,
     "metadata": {},
     "output_type": "execute_result"
    }
   ],
   "source": [
    "# Design a query to calculate the total number stations in the dataset\n",
    "station_cnt = pd.read_sql(\"SELECT COUNT(name) FROM station\", conn)\n",
    "station_cnt"
   ]
  },
  {
   "cell_type": "code",
   "execution_count": 13,
   "metadata": {},
   "outputs": [
    {
     "data": {
      "text/html": [
       "<div>\n",
       "<style scoped>\n",
       "    .dataframe tbody tr th:only-of-type {\n",
       "        vertical-align: middle;\n",
       "    }\n",
       "\n",
       "    .dataframe tbody tr th {\n",
       "        vertical-align: top;\n",
       "    }\n",
       "\n",
       "    .dataframe thead th {\n",
       "        text-align: right;\n",
       "    }\n",
       "</style>\n",
       "<table border=\"1\" class=\"dataframe\">\n",
       "  <thead>\n",
       "    <tr style=\"text-align: right;\">\n",
       "      <th></th>\n",
       "      <th>station</th>\n",
       "      <th>COUNT(station)</th>\n",
       "    </tr>\n",
       "  </thead>\n",
       "  <tbody>\n",
       "    <tr>\n",
       "      <th>0</th>\n",
       "      <td>USC00519281</td>\n",
       "      <td>2772</td>\n",
       "    </tr>\n",
       "    <tr>\n",
       "      <th>1</th>\n",
       "      <td>USC00519397</td>\n",
       "      <td>2724</td>\n",
       "    </tr>\n",
       "    <tr>\n",
       "      <th>2</th>\n",
       "      <td>USC00513117</td>\n",
       "      <td>2709</td>\n",
       "    </tr>\n",
       "    <tr>\n",
       "      <th>3</th>\n",
       "      <td>USC00519523</td>\n",
       "      <td>2669</td>\n",
       "    </tr>\n",
       "    <tr>\n",
       "      <th>4</th>\n",
       "      <td>USC00516128</td>\n",
       "      <td>2612</td>\n",
       "    </tr>\n",
       "    <tr>\n",
       "      <th>5</th>\n",
       "      <td>USC00514830</td>\n",
       "      <td>2202</td>\n",
       "    </tr>\n",
       "    <tr>\n",
       "      <th>6</th>\n",
       "      <td>USC00511918</td>\n",
       "      <td>1979</td>\n",
       "    </tr>\n",
       "    <tr>\n",
       "      <th>7</th>\n",
       "      <td>USC00517948</td>\n",
       "      <td>1372</td>\n",
       "    </tr>\n",
       "    <tr>\n",
       "      <th>8</th>\n",
       "      <td>USC00518838</td>\n",
       "      <td>511</td>\n",
       "    </tr>\n",
       "  </tbody>\n",
       "</table>\n",
       "</div>"
      ],
      "text/plain": [
       "       station  COUNT(station)\n",
       "0  USC00519281            2772\n",
       "1  USC00519397            2724\n",
       "2  USC00513117            2709\n",
       "3  USC00519523            2669\n",
       "4  USC00516128            2612\n",
       "5  USC00514830            2202\n",
       "6  USC00511918            1979\n",
       "7  USC00517948            1372\n",
       "8  USC00518838             511"
      ]
     },
     "execution_count": 13,
     "metadata": {},
     "output_type": "execute_result"
    }
   ],
   "source": [
    "# Design a query to find the most active stations (i.e. what stations have the most rows?)\n",
    "# List the stations and the counts in descending order.\n",
    "station_activity = pd.read_sql(\"SELECT station,COUNT(station) \\\n",
    "                                FROM measurement GROUP BY station ORDER BY COUNT(station) DESC\", conn)\n",
    "station_activity"
   ]
  },
  {
   "cell_type": "code",
   "execution_count": 14,
   "metadata": {},
   "outputs": [
    {
     "name": "stdout",
     "output_type": "stream",
     "text": [
      "The station with the highest number of observations is: USC00519281\n"
     ]
    }
   ],
   "source": [
    "#print the most active station\n",
    "most_activity = station_activity['station']\n",
    "for k in most_activity:\n",
    "    most_active_id = k\n",
    "    break\n",
    "\n",
    "print(f\"The station with the highest number of observations is: {most_active_id}\")"
   ]
  },
  {
   "cell_type": "code",
   "execution_count": 53,
   "metadata": {},
   "outputs": [
    {
     "name": "stdout",
     "output_type": "stream",
     "text": [
      "Most Active Station ID, maxTemp, minTemp, avgTemp:\n",
      "\n",
      "[('USC00519281', 85.0, 54.0, 71.66378066378067)]\n"
     ]
    }
   ],
   "source": [
    "#(1/2) I did this two ways. \n",
    "#I originally did it the way at the bottom then remembered it called for the func methods.\n",
    "#Other way is at the very bottom in case this way wasn't right\n",
    "\n",
    "# Using the most active station id from the previous query, calculate the lowest, highest, and average temperature.\n",
    "station_data = session.query(Measurement.station, func.max(Measurement.tobs), func.min(Measurement.tobs),\\\n",
    "                        func.avg(Measurement.tobs)).\\\n",
    "    filter(Measurement.station == most_active_id).all()\n",
    "\n",
    "print(f\"\"\"Most Active Station ID, maxTemp, minTemp, avgTemp:\n",
    "\n",
    "{station_data}\"\"\")"
   ]
  },
  {
   "cell_type": "code",
   "execution_count": 69,
   "metadata": {},
   "outputs": [
    {
     "name": "stderr",
     "output_type": "stream",
     "text": [
      "<ipython-input-69-9e025bdfc2fc>:19: SettingWithCopyWarning: \n",
      "A value is trying to be set on a copy of a slice from a DataFrame.\n",
      "Try using .loc[row_indexer,col_indexer] = value instead\n",
      "\n",
      "See the caveats in the documentation: https://pandas.pydata.org/pandas-docs/stable/user_guide/indexing.html#returning-a-view-versus-a-copy\n",
      "  last_12_mon_df['year'] = last_12_mon_df['date'].dt.year\n"
     ]
    },
    {
     "data": {
      "image/png": "[encoded data removed]",
      "text/plain": [
       "<Figure size 432x288 with 1 Axes>"
      ]
     },
     "metadata": {},
     "output_type": "display_data"
    }
   ],
   "source": [
    "# Using the most active station id, Query the last 12 months of temperature observation data for this station\n",
    "# and plot the results as a histogram last_12_ndd / most_recent_date / yr_ago_date\n",
    "##Querying the last 12 months of temperature observation data for this station\n",
    "last_12_mon = pd.read_sql(\"SELECT * FROM measurement WHERE station = 'USC00519281'\", conn)\n",
    "\n",
    "##query the same data but descending for the for loop\n",
    "last_12_mon_desc = pd.read_sql(\"SELECT * FROM measurement WHERE station = 'USC00519281' ORDER BY date DESC\", conn)\n",
    "last_12_date = last_12_mon_desc['date']\n",
    "\n",
    "##find the most recent date\n",
    "for s in last_12_date:\n",
    "    most_recent_date = s\n",
    "    break\n",
    "    \n",
    "##converting the date column to datetime\n",
    "##breaking up the date and adding year month and date columns\n",
    "last_12_mon['date'] = pd.to_datetime(last_12_mon['date'])\n",
    "last_12_mon_df = last_12_mon[['station','date','tobs']]\n",
    "last_12_mon_df['year'] = last_12_mon_df['date'].dt.year\n",
    "last_12_mon_df['month'] = last_12_mon_df['date'].dt.month\n",
    "last_12_mon_df['day'] = last_12_mon_df['date'].dt.day\n",
    "last_12_mon_df\n",
    "\n",
    "##calculating the date for 1 year ago and making it a variable to call\n",
    "find_12mon_date = last_12_mon_df.loc[last_12_mon_df['date'] == most_recent_date]\n",
    "yr_ago = find_12mon_date['year'].max()\n",
    "yr_ago_yr = yr_ago - 1\n",
    "yr_ago_mon = find_12mon_date['month'].max()\n",
    "yr_ago_day = find_12mon_date['day'].max()\n",
    "yr_ago_date = (f\"{yr_ago_yr}-{yr_ago_mon}-{yr_ago_day}\")\n",
    "\n",
    "#querying and filtering the data\n",
    "L12_yr = session.query(Measurement.tobs).\\\n",
    "    filter(Measurement.station == most_active_id).\\\n",
    "    filter(Measurement.date > yr_ago_date).\\\n",
    "    filter(Measurement.date < most_recent_date).all()\n",
    "\n",
    "#plotting histogram\n",
    "L12_yr_df = pd.DataFrame(L12_yr)\n",
    "L12_yr_df.hist()\n",
    "plt.xlabel(\"Temperature\")\n",
    "plt.ylabel(\"Frequency\")\n",
    "plt.show()"
   ]
  },
  {
   "cell_type": "markdown",
   "metadata": {},
   "source": [
    "# Close session"
   ]
  },
  {
   "cell_type": "code",
   "execution_count": 18,
   "metadata": {},
   "outputs": [],
   "source": [
    "# Close Session\n",
    "session.close()"
   ]
  },
  {
   "cell_type": "code",
   "execution_count": null,
   "metadata": {},
   "outputs": [],
   "source": [
    "#"
   ]
  },
  {
   "cell_type": "code",
   "execution_count": 15,
   "metadata": {},
   "outputs": [
    {
     "name": "stdout",
     "output_type": "stream",
     "text": [
      " The lowest temperature from station USC00519281 is: 54.0\n",
      " The highest temperature from station USC00519281 is: 85.0\n",
      " The average temperature from station USC00519281 is: 71.66378066378067\n"
     ]
    }
   ],
   "source": [
    "#(2/2)\n",
    "# Using the most active station id from the previous query,\n",
    "#calculate the lowest, highest, and average temperature.\n",
    "#calculate the lowest temperature\n",
    "id_min_temp = pd.read_sql(\"SELECT MIN(tobs) FROM measurement WHERE station = 'USC00519281'\", conn)\n",
    "min_temp = id_min_temp['MIN(tobs)']\n",
    "for a in min_temp:\n",
    "    min_tob = a\n",
    "    break\n",
    "#calculate the highest temperature\n",
    "id_max_temp = pd.read_sql(\"SELECT MAX(tobs) FROM measurement WHERE station = 'USC00519281'\", conn)\n",
    "max_temp = id_max_temp['MAX(tobs)']\n",
    "for b in max_temp:\n",
    "    max_tob = b\n",
    "    break\n",
    "#calculate the average temperature\n",
    "id_avg_temp = pd.read_sql(\"SELECT AVG(tobs) FROM measurement WHERE station = 'USC00519281'\", conn)\n",
    "avg_temp = id_avg_temp['AVG(tobs)']\n",
    "for c in avg_temp:\n",
    "    avg_tob = c\n",
    "    break\n",
    "#print findings\n",
    "print(f\" The lowest temperature from station {most_active_id} is: {min_tob}\")\n",
    "print(f\" The highest temperature from station {most_active_id} is: {max_tob}\")\n",
    "print(f\" The average temperature from station {most_active_id} is: {avg_tob}\")"
   ]
  },
  {
   "cell_type": "markdown",
   "metadata": {},
   "source": []
  }
 ],
 "metadata": {
  "anaconda-cloud": {},
  "kernel_info": {
   "name": "python3"
  },
  "kernelspec": {
   "display_name": "Python 3",
   "language": "python",
   "name": "python3"
  },
  "language_info": {
   "codemirror_mode": {
    "name": "ipython",
    "version": 3
   },
   "file_extension": ".py",
   "mimetype": "text/x-python",
   "name": "python",
   "nbconvert_exporter": "python",
   "pygments_lexer": "ipython3",
   "version": "3.8.5"
  },
  "nteract": {
   "version": "0.12.3"
  },
  "varInspector": {
   "cols": {
    "lenName": 16,
    "lenType": 16,
    "lenVar": 40
   },
   "kernels_config": {
    "python": {
     "delete_cmd_postfix": "",
     "delete_cmd_prefix": "del ",
     "library": "var_list.py",
     "varRefreshCmd": "print(var_dic_list())"
    },
    "r": {
     "delete_cmd_postfix": ") ",
     "delete_cmd_prefix": "rm(",
     "library": "var_list.r",
     "varRefreshCmd": "cat(var_dic_list()) "
    }
   },
   "types_to_exclude": [
    "module",
    "function",
    "builtin_function_or_method",
    "instance",
    "_Feature"
   ],
   "window_display": false
  }
 },
 "nbformat": 4,
 "nbformat_minor": 2
}
